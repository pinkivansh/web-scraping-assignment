{
 "cells": [
  {
   "cell_type": "markdown",
   "id": "53160df4",
   "metadata": {},
   "source": [
    "# Q8  Write a python program to scrape house details from mentioned URL. It should include house title, location area, EMI and price from https://www.nobroker.in/ .Enter three localities which are Indira Nagar, ayanagar, Rajaji Nagar.\n"
   ]
  },
  {
   "cell_type": "code",
   "execution_count": 25,
   "id": "974ccf03",
   "metadata": {},
   "outputs": [
    {
     "data": {
      "text/plain": [
       "[]"
      ]
     },
     "execution_count": 25,
     "metadata": {},
     "output_type": "execute_result"
    }
   ],
   "source": [
    "import requests\n",
    "from bs4 import BeautifulSoup \n",
    "import pandas as pd\n",
    "\n",
    "url='https://www.nobroker.in/property/sale/bangalore/multiple?searchParam=W3sibGF0IjoxMy4wNjk4MjgxLCJsb24iOjc3LjU4OTYwNTQ5OTk5OTk5LCJwbGFjZUlkIjoiQ2hJSnowVW1UU0lZcmpzUm1CRFhNMnZXS3pzIiwicGxhY2VOYW1lIjoiSW5kcmEgTmFnYXIiLCJzaG93TWFwIjpmYWxzZX0seyJsYXQiOjEyLjkzMDc3MzUsImxvbiI6NzcuNTgzODMwMiwicGxhY2VJZCI6IkNoSUoyZGRsWjVnVnJqc1JoMUJPQWFmLW9ycyIsInBsYWNlTmFtZSI6IkpheWFuYWdhciIsInNob3dNYXAiOmZhbHNlfSx7ImxhdCI6MTIuOTk4MTczMiwibG9uIjo3Ny41NTMwNDQ1OTk5OTk5OSwicGxhY2VJZCI6IkNoSUp4Zlc0RFBNOXJqc1JLc05URy01cF9RUSIsInBsYWNlTmFtZSI6IlJhamFqaW5hZ2FyIiwic2hvd01hcCI6ZmFsc2V9XQ=='\n",
    "page=requests.get(url)\n",
    "soup=BeautifulSoup(page.content)\n",
    "\n",
    "House_title=[]\n",
    "for i in soup.find_all('div', class_=\"nb__jvFlz\"):\n",
    "    House_title.append(i.text)\n",
    "#House_title\n",
    "area=[]\n",
    "for i in soup.find_all('div', class_=\"nb__FfHqA\"):\n",
    "    area.append(i.text)\n",
    "area\n",
    "\n",
    "emi=[]\n",
    "for i in soup.find_all('div', class_=\"nb__2Awq2\"):\n",
    "    emi.append(i.text)\n",
    "emi\n",
    "price=[]\n",
    "for i in soup.find_all('div', class_=\"nb__4L90a\"):\n",
    "    price.append(i.text)\n",
    "\n",
    "price\n"
   ]
  },
  {
   "cell_type": "code",
   "execution_count": null,
   "id": "70d76cf0",
   "metadata": {},
   "outputs": [],
   "source": []
  },
  {
   "cell_type": "code",
   "execution_count": null,
   "id": "5d9e308c",
   "metadata": {},
   "outputs": [],
   "source": []
  },
  {
   "cell_type": "code",
   "execution_count": null,
   "id": "ba94b89d",
   "metadata": {},
   "outputs": [],
   "source": []
  }
 ],
 "metadata": {
  "kernelspec": {
   "display_name": "Python 3",
   "language": "python",
   "name": "python3"
  },
  "language_info": {
   "codemirror_mode": {
    "name": "ipython",
    "version": 3
   },
   "file_extension": ".py",
   "mimetype": "text/x-python",
   "name": "python",
   "nbconvert_exporter": "python",
   "pygments_lexer": "ipython3",
   "version": "3.8.8"
  }
 },
 "nbformat": 4,
 "nbformat_minor": 5
}
