{
 "cells": [
  {
   "cell_type": "code",
   "execution_count": null,
   "id": "44500245",
   "metadata": {},
   "outputs": [],
   "source": [
    "#Q7 Write a python program to scrape details of all the posts from coreyms.com. Scrape the heading, date, content\n",
    "#and the code for the video from the link for the youtube video from the post.\n"
   ]
  },
  {
   "cell_type": "code",
   "execution_count": 2,
   "id": "91bd6d4e",
   "metadata": {},
   "outputs": [
    {
     "ename": "IndentationError",
     "evalue": "unexpected indent (<ipython-input-2-d32dd5c3aa60>, line 29)",
     "output_type": "error",
     "traceback": [
      "\u001b[1;36m  File \u001b[1;32m\"<ipython-input-2-d32dd5c3aa60>\"\u001b[1;36m, line \u001b[1;32m29\u001b[0m\n\u001b[1;33m    try:\u001b[0m\n\u001b[1;37m    ^\u001b[0m\n\u001b[1;31mIndentationError\u001b[0m\u001b[1;31m:\u001b[0m unexpected indent\n"
     ]
    }
   ],
   "source": [
    "import requests\n",
    "from bs4 import BeautifulSoup \n",
    "import pandas as pd\n",
    "url='https://coreyms.com/'\n",
    "page=requests.get(url)\n",
    "soup=BeautifulSoup(page.content)\n",
    "heading=[]\n",
    "for i in soup.find_all('h2', class_=\"entry-title\"):\n",
    "    heading.append(i.text)\n",
    "heading\n",
    "date=[]\n",
    "for i in soup.find_all('p', class_=\"entry-meta\"):\n",
    "    date.append(i.text)\n",
    "date\n",
    "content=[]\n",
    "for i in soup.find_all('div', class_=\"entry-content\"):\n",
    "    content.append(i.text)\n",
    "content\n",
    "#y_link=[]\n",
    "#for i in soup.find_all('div', class_=\"ytp-title-text\"):\n",
    "   # y_link.append(i.text)\n",
    "\n",
    "div_block = article.find(\"div\", class_=\"entry-content\")\n",
    "\n",
    "    # Paragraph\n",
    "\n",
    "    #paragraph_content = div_block.find(\"p\").text\n",
    "\n",
    "    try:\n",
    "\n",
    "        youtube_link = div_block.find(\"iframe\", class_=\"youtube-player\")['src']\n",
    "\n",
    "        video_code = youtube_link.split(\"?\")[0].split(\"/\")[-1]\n",
    "\n",
    "    except:\n",
    "\n",
    "        video_code = \"NA\""
   ]
  },
  {
   "cell_type": "code",
   "execution_count": null,
   "id": "765d4eb7",
   "metadata": {},
   "outputs": [],
   "source": []
  },
  {
   "cell_type": "code",
   "execution_count": null,
   "id": "e2e9c043",
   "metadata": {},
   "outputs": [],
   "source": []
  }
 ],
 "metadata": {
  "kernelspec": {
   "display_name": "Python 3",
   "language": "python",
   "name": "python3"
  },
  "language_info": {
   "codemirror_mode": {
    "name": "ipython",
    "version": 3
   },
   "file_extension": ".py",
   "mimetype": "text/x-python",
   "name": "python",
   "nbconvert_exporter": "python",
   "pygments_lexer": "ipython3",
   "version": "3.8.8"
  }
 },
 "nbformat": 4,
 "nbformat_minor": 5
}
