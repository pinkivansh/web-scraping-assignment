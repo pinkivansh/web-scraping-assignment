{
 "cells": [
  {
   "cell_type": "code",
   "execution_count": 1,
   "id": "c24526b0",
   "metadata": {},
   "outputs": [
    {
     "name": "stdout",
     "output_type": "stream",
     "text": [
      "200 -> https://www.icc-cricket.com/rankings/mens/player-rankings/test/batting\n",
      "200 -> https://www.icc-cricket.com/rankings/mens/player-rankings/test/bowling\n",
      "200 -> https://www.icc-cricket.com/rankings/mens/player-rankings/odi/batting\n",
      "200 -> https://www.icc-cricket.com/rankings/mens/player-rankings/odi/bowling\n",
      "200 -> https://www.icc-cricket.com/rankings/mens/player-rankings/t20i/batting\n",
      "200 -> https://www.icc-cricket.com/rankings/mens/player-rankings/t20i/bowling\n",
      "200 -> https://www.icc-cricket.com/rankings/womens/player-rankings/odi/batting\n",
      "200 -> https://www.icc-cricket.com/rankings/womens/player-rankings/t20i/batting\n",
      "200 -> https://www.icc-cricket.com/rankings/womens/player-rankings/odi/bowling\n",
      "200 -> https://www.icc-cricket.com/rankings/womens/player-rankings/t20i/bowling\n"
     ]
    }
   ],
   "source": [
    "import requests\n",
    "from bs4 import BeautifulSoup\n",
    "import re\n",
    "import pandas as pd\n",
    "\n",
    "headers = {\n",
    "    \"User-Agent\": \"Mozilla/5.0 (X11; Linux x86_64) AppleWebKit/537.36 (KHTML, like Gecko) Chrome/75.0.3770.100 Safari/537.36\"\n",
    "    }\n",
    "\n",
    "urls = [\n",
    "\"https://www.icc-cricket.com/rankings/mens/player-rankings/test/batting\",\n",
    "\"https://www.icc-cricket.com/rankings/mens/player-rankings/test/bowling\",\n",
    "\"https://www.icc-cricket.com/rankings/mens/player-rankings/odi/batting\",\n",
    "\"https://www.icc-cricket.com/rankings/mens/player-rankings/odi/bowling\",\n",
    "\"https://www.icc-cricket.com/rankings/mens/player-rankings/t20i/batting\",\n",
    "\"https://www.icc-cricket.com/rankings/mens/player-rankings/t20i/bowling\",\n",
    "\"https://www.icc-cricket.com/rankings/womens/player-rankings/odi/batting\",\n",
    "\"https://www.icc-cricket.com/rankings/womens/player-rankings/t20i/batting\",\n",
    "\"https://www.icc-cricket.com/rankings/womens/player-rankings/odi/bowling\",\n",
    "\"https://www.icc-cricket.com/rankings/womens/player-rankings/t20i/bowling\",\n",
    "]\n",
    "\n",
    "final_result_file_name = \"All Ranking List.csv\"\n",
    "final_column_names = [\"Ranking Type\", \"Position\", \"Player Name\", \"Team Name\", \"Rating\", \"Career Best Rating\", \"Crawl URL\"]\n",
    "pd.DataFrame(columns=final_column_names).to_csv(final_result_file_name, sep=\"\\t\", index=False, encoding=\"utf-8\")\n",
    "\n",
    "for url in urls:\n",
    "    request_object = requests.get(url, headers=headers)\n",
    "    html_content = request_object.text\n",
    "    print(request_object.status_code, \"->\", url)\n",
    "    soup_object = BeautifulSoup(html_content, \"lxml\")\n",
    "    for element in soup_object.select('[class=\"ranking-pos up\"], [class=\"ranking-pos down\"]'):\n",
    "        element.replace_with(BeautifulSoup(\"<\" + element.name + \"></\" + element.name + \">\", \"html.parser\"))\n",
    "\n",
    "    ranking_type = soup_object.select_one(\".rankings-block__title-container > h4\").text\n",
    "\n",
    "    result_file_name = ranking_type + \".csv\"\n",
    "    column_names = [\"Position\", \"Player Name\", \"Team Name\", \"Rating\", \"Career Best Rating\", \"Crawl URL\"]\n",
    "    pd.DataFrame(columns=column_names).to_csv(result_file_name, sep=\"\\t\", index=False, encoding=\"utf-8\")\n",
    "\n",
    "    for element in soup_object.select('table[class=\"table rankings-table\"] tr'):\n",
    "        if(element.find(\"th\")):\n",
    "            continue\n",
    "        data_dict = dict()\n",
    "        data_dict[\"Crawl URL\"] = url\n",
    "        data_dict[\"Ranking Type\"] = ranking_type\n",
    "        if(element.select_one('[class*=\"position\"]')):\n",
    "            data_dict[\"Position\"] = element.select_one('[class*=\"position\"]').text\n",
    "        for player_name in (element.select('a[href*=\"/player-rankings\"]')):\n",
    "            if(player_name.text.strip()):\n",
    "                data_dict[\"Player Name\"] = player_name.text\n",
    "        if(element.select_one('[class^=\"flag-15\"]')):\n",
    "            data_dict[\"Team Name\"] = element.select_one('[class^=\"flag-15\"]')[\"class\"][-1]\n",
    "        if(element.select_one('[class$=\"rating\"]')):\n",
    "            data_dict[\"Rating\"] = element.select_one('[class$=\"rating\"]').text\n",
    "        if(element.select_one('td.u-hide-phablet')):\n",
    "            data_dict[\"Career Best Rating\"] = element.select_one('td.u-hide-phablet').text\n",
    "        for key in data_dict.keys():\n",
    "            data_dict[key] = re.sub(r\"\\s+\", \" \", data_dict[key])\n",
    "            data_dict[key] = data_dict[key].strip()\n",
    "        pd.DataFrame([data_dict], columns=column_names).to_csv(result_file_name, sep=\"\\t\", index=False, header=False, encoding=\"utf-8\", mode=\"a\")\n",
    "        pd.DataFrame([data_dict], columns=final_column_names).to_csv(final_result_file_name, sep=\"\\t\", index=False, header=False, encoding=\"utf-8\", mode=\"a\")"
   ]
  },
  {
   "cell_type": "code",
   "execution_count": null,
   "id": "ded24e7f",
   "metadata": {},
   "outputs": [],
   "source": []
  }
 ],
 "metadata": {
  "kernelspec": {
   "display_name": "Python 3",
   "language": "python",
   "name": "python3"
  },
  "language_info": {
   "codemirror_mode": {
    "name": "ipython",
    "version": 3
   },
   "file_extension": ".py",
   "mimetype": "text/x-python",
   "name": "python",
   "nbconvert_exporter": "python",
   "pygments_lexer": "ipython3",
   "version": "3.8.8"
  }
 },
 "nbformat": 4,
 "nbformat_minor": 5
}
